{
 "cells": [
  {
   "cell_type": "markdown",
   "id": "6231346f-b857-4392-9c59-783c256eb76a",
   "metadata": {},
   "source": [
    "# Speedup\n",
    "Now that you have an eval and things are looking good, to speed things up in production.\n",
    "Unfortunately there's no free lunch though. \n",
    "Let's change some inference parameters and see if we can get a speedup,\n",
    "but use our evals to understand what the tradeoff is.\n",
    "\n",
    "## Steps\n",
    "* Run inference but this time focus on engineering metrics, in our case we care about clock time\n",
    "* Measure 5 responses using the an fp16 model, then repeat with a fp2 model\n",
    "* Before running evals, what is different about these models?\n",
    "  * Hints: Google quantization, look at the model size on Ollama, think about what is expensive during inference.\n",
    "* After runing evals\n",
    "  * What do you notice is different?\n",
    "  * What about the quality of the responses? How does that change?\n",
    "\n",
    "\n",
    "\n",
    "## Temporary References\n",
    "* Enable KV Cache quantization https://github.com/ollama/ollama/blob/main/docs/faq.md#how-can-i-set-the-quantization-type-for-the-kv-cache\n",
    "* https://github.com/ollama/ollama/blob/main/docs/faq.md#how-can-i-enable-flash-attention\n",
    "https://github.com/ollama/ollama/blob/main/docs/faq.md#how-can-i-set-the-quantization-type-for-the-kv-cache"
   ]
  },
  {
   "cell_type": "code",
   "execution_count": 43,
   "id": "615baeca-b7b7-4be3-a85b-de2416f56c4c",
   "metadata": {},
   "outputs": [],
   "source": [
    "from ollama import chat\n",
    "from ollama import ChatResponse\n",
    "import time\n",
    "import os"
   ]
  },
  {
   "cell_type": "code",
   "execution_count": 44,
   "id": "1c678aa3-159b-4764-9c3f-077f9594183b",
   "metadata": {},
   "outputs": [],
   "source": [
    "article = \"\"\"\n",
    "\\n\\n**A Journey Through Time: The History and Achievements of North Melbourne Kangaroos**\\n\\nThe North Melbourne Kangaroos, affectionately known as the Magpies prior to their 1983 rebranding, are a storied team with a rich tapestry of history. Nestled in Ballarat, Victoria, these kangaroos have been the pride of the region since their inception in 1924. This article delves into their remarkable journey, from their early days as a minor league side to becoming a significant force in Australian rugby union.\\n\\n**The Founding of the Kangaroos**\\n\\nNorth Melbourne Kangaroos were born on November 6, 1924, when the North Melbourne Rugby Union Club was established. The club\\'s name change to Kangaroos occurred after their 1983 merger with Torquay United, a move that reflected their transition from being based in Melbourne to Ballarat.\\n\\n**A Legacy of Excellence**\\n\\nThe Kangaroos\\' history is marked by excellence and resilience. Over the decades, they\\'ve claimed multiple State Titles, showcasing their dominance on the field. Notable players such as David Nasmith and Adam Droms have been luminaries of the team, with Nasmith holding the distinction of being one of the youngest players to grace the field in 1958 and still active today.\\n\\n**Current Stance in the League**\\n\\nSince their move to Ballarat in 2019, the North Melbourne Kangaroos have become a prominent side in the Victorian top-tier competition. Their transition was met with both anticipation and nostalgia from their old fans, who cherished the memories of playing at Belmore Ground, the club\\'s historic home.\\n\\n**Community Connection**\\n\\nThe kangaroos are deeply rooted in the Ballarat community. Their branding includes the iconic \"Kangaroo\" logo, symbolizing their connection to the local wildlife. The team has also embraced community involvement, with players and staff engaging actively in local initiatives, fostering a strong bond between the club and its surroundings.\\n\\n**Engaging with Fans**\\n\\nIn keeping with rugby union traditions, the Kangaroos embrace close-knit relationships with their fans. Whether through match days or annual events, the team consistently demonstrates a commitment to community spirit, further cementing its identity as a local institution.\\n\\n**Looking Ahead**\\n\\nThe future of North Melbourne Kangaroos looks promising. With a focus on developing young talent and maintaining high standards, the club is poised for continued success. Fans can expect an exciting season ahead, with the kangaroos aiming to uphold their legacy while exploring new horizons in the league.\\n\\nIn conclusion, the North Melbourne Kangaroos represent more than just a rugby team; they are a symbol of pride for Ballarat and a testament to the enduring spirit of sportsmanship. As they continue to navigate the challenges and opportunities of modern rugby union, one can look forward to many thrilling matches and memorable moments in their storied history.'\n",
    "\"\"\""
   ]
  },
  {
   "cell_type": "code",
   "execution_count": 49,
   "id": "f1cfb4d7-82f2-44be-9084-6a904b5707d6",
   "metadata": {},
   "outputs": [
    {
     "data": {
      "text/plain": [
       "('Australian \\n', 0.13673710823059082)"
      ]
     },
     "execution_count": 49,
     "metadata": {},
     "output_type": "execute_result"
    }
   ],
   "source": [
    "model = 'gemma2:2b'\n",
    "\n",
    "def single_turn_with_time(prompt, model):\n",
    "    start_time = time.time()\n",
    "    response: ChatResponse = chat(model=model, messages=[\n",
    "      {\n",
    "        'role': 'user',\n",
    "        'content': prompt,\n",
    "      },\n",
    "    ])\n",
    "    end_time = time.time()\n",
    "    \n",
    "    total_time = end_time - start_time\n",
    "    return response.message.content, total_time\n",
    "\n",
    "\n",
    "prompt = f\"Is this about an australian or american team?, print no other words: {article}?\"\n",
    "single_turn_with_time(prompt, model)"
   ]
  },
  {
   "cell_type": "code",
   "execution_count": 46,
   "id": "816fa9a6-afa7-4c5e-8501-6016320a95e6",
   "metadata": {},
   "outputs": [
    {
     "name": "stdout",
     "output_type": "stream",
     "text": [
      "gemma2:2b-text-fp16\n",
      "13.946565866470337\n",
      "gemma2:2b-text-fp16\n",
      "0.4636821746826172\n",
      "gemma2:2b-text-fp16\n",
      "0.46567702293395996\n",
      "gemma2:2b-text-fp16\n",
      "19.043325901031494\n",
      "gemma2:2b-text-fp16\n",
      "0.7935211658477783\n"
     ]
    }
   ],
   "source": [
    "# os.environ[\"OLLAMA_KV_CACHE_TYPE\"] = \"FP16\"\n",
    "# os.environ[\"OLLAMA_FLASH_ATTENTION\"] = \"0\"\n",
    "\n",
    "model = 'gemma2:2b-text-fp16'\n",
    "\n",
    "for i in range(5):\n",
    "    prompt = f\"{i} Is this about an australian or american team?, print no other words: {article}?\"\n",
    "    print(single_turn_with_time(prompt, model=model)[1])"
   ]
  },
  {
   "cell_type": "code",
   "execution_count": 50,
   "id": "2066b54b-676c-460b-9641-a6a63b1f8f6d",
   "metadata": {},
   "outputs": [
    {
     "name": "stdout",
     "output_type": "stream",
     "text": [
      "23.573416164660987 Australian \n",
      "\n",
      "23.687432141470474 Australian \n",
      "\n",
      "23.732119214041337 Australian \n",
      "\n",
      "23.657115139117895 Australian \n",
      "\n",
      "23.660329090157806 Australian \n",
      "\n"
     ]
    }
   ],
   "source": [
    "for i in range(5):\n",
    "    prompt = f\"{i} Is this about an australian or american team?, print no other words: {article}?\"\n",
    "    response, wall_time = single_turn_with_time(prompt, model=model)\n",
    "    character_per_second = len(response) / wall_time\n",
    "    print(character_per_second, response)"
   ]
  },
  {
   "cell_type": "markdown",
   "id": "ae3059ee-b448-4118-acc7-09fd7bf75ff4",
   "metadata": {},
   "source": [
    "## Quantized model\n",
    "Let's try the quantized model. See if there's anything you notice\n",
    "\n",
    "### Key Points for students\n",
    "* Notice that the tokens per second is much faster\n",
    "* Also notice though that the quality is much worse. The model is outputting all sorts of weird characters and is barely usable\n",
    "* Is this tradeoff worth it? No"
   ]
  },
  {
   "cell_type": "code",
   "execution_count": 40,
   "id": "7781cde6-8a49-4d7f-bc46-86e64d540373",
   "metadata": {},
   "outputs": [
    {
     "name": "stdout",
     "output_type": "stream",
     "text": [
      "gemma2:2b-instruct-q2_K\n",
      "0.6870639324188232\n",
      "gemma2:2b-instruct-q2_K\n",
      "0.5511720180511475\n",
      "gemma2:2b-instruct-q2_K\n",
      "0.5475988388061523\n",
      "gemma2:2b-instruct-q2_K\n",
      "0.5449249744415283\n",
      "gemma2:2b-instruct-q2_K\n",
      "0.5457031726837158\n"
     ]
    }
   ],
   "source": [
    "#os.environ[\"OLLAMA_KV_CACHE_TYPE\"] = \"q4_0\"\n",
    "\n",
    "model = 'gemma2:2b-instruct-q2_K'\n",
    "\n",
    "for i in range(5):\n",
    "    prompt = f\"{i} Is this about an australian or american team?, print no other words: {article}?\"\n",
    "    print(single_turn_with_time(prompt, model=model)[1])"
   ]
  },
  {
   "cell_type": "code",
   "execution_count": 52,
   "id": "7afbcc67-6551-4ac5-83b6-dbcdf5304e36",
   "metadata": {},
   "outputs": [
    {
     "name": "stdout",
     "output_type": "stream",
     "text": [
      "128.2925066907546 Australian \n",
      "\n",
      "\n",
      " \n",
      " \n",
      " \n",
      " \n",
      "\n",
      "*   \n",
      " \n",
      "\n",
      "\n",
      " \n",
      " \n",
      "\n",
      "\n",
      "\n",
      "\n",
      " \n",
      " \n",
      "\n",
      "\n",
      " **Please note:** This text is a bit more information about the team itself.  I am still learning how to be helpful! \n",
      " \n",
      " \n",
      " \n",
      " \n",
      "\n",
      "\n",
      "18.211589964117866 American \n",
      "\n",
      "109.38831121570149 American \n",
      "\n",
      "\n",
      "Please let me know if you'd like further information about this team!  🏈 \n",
      "\n",
      "21.879891025799864 Australian \n",
      "\n",
      "100.45768390929733 American \n",
      "\n",
      "\n",
      "I hope this helps!  Let me know if you have any other questions.\n",
      "\n"
     ]
    }
   ],
   "source": [
    "model = 'gemma2:2b-instruct-q2_K'\n",
    "\n",
    "for i in range(5):\n",
    "    prompt = f\"{i} Is this about an australian or american team?, print no other words: {article}?\"\n",
    "    response, wall_time = single_turn_with_time(prompt, model=model)\n",
    "    character_per_second = len(response) / wall_time\n",
    "    print(character_per_second, response)"
   ]
  }
 ],
 "metadata": {
  "kernelspec": {
   "display_name": "Python 3 (ipykernel)",
   "language": "python",
   "name": "python3"
  },
  "language_info": {
   "codemirror_mode": {
    "name": "ipython",
    "version": 3
   },
   "file_extension": ".py",
   "mimetype": "text/x-python",
   "name": "python",
   "nbconvert_exporter": "python",
   "pygments_lexer": "ipython3",
   "version": "3.11.11"
  }
 },
 "nbformat": 4,
 "nbformat_minor": 5
}
