{
 "cells": [
  {
   "cell_type": "markdown",
   "id": "17e4fdaf-ee74-431e-8445-91dbc7830c1c",
   "metadata": {},
   "source": [
    "# Initial Prompt Engineering and Evals\n",
    "Our goal here is to first get some vibe checks, then formalize those into repeatable evals.\n",
    "The key word here is repeatable.\n",
    "Go through the exercise, then Ravin and Hugo will explain the takeawways.\n",
    "\n",
    "Note: The goal here is NOT to build a perfect classifier. The goal here is for you to understand how to characterize an LLM, measure performance, and build an eval set\n",
    "\n",
    "\n",
    "## TODO\n",
    "* Add some fake team names in\n",
    "\n"
   ]
  },
  {
   "cell_type": "code",
   "execution_count": 45,
   "id": "7a29f7cc-943e-4208-9f9d-6db7efec6022",
   "metadata": {},
   "outputs": [],
   "source": [
    "# Note, we're going to write a system prompt that intentionally misclassifiers a couple of the teams. See if people notice\n",
    "# !ollama create hotnewmodel -f ./modelspec"
   ]
  },
  {
   "cell_type": "code",
   "execution_count": 46,
   "id": "e358d28f-4e7c-4100-a1ac-ca2d42b597ae",
   "metadata": {},
   "outputs": [
    {
     "data": {
      "text/plain": [
       "'Hello everyone! 👋 😊 \\n'"
      ]
     },
     "execution_count": 46,
     "metadata": {},
     "output_type": "execute_result"
    }
   ],
   "source": [
    "from ollama import chat\n",
    "from ollama import ChatResponse\n",
    "\n",
    "model = 'gemma2:2b'\n",
    "\n",
    "def single_turn(prompt):\n",
    "    response: ChatResponse = chat(model=model, messages=[\n",
    "      {\n",
    "        'role': 'user',\n",
    "        'content': prompt,\n",
    "      },\n",
    "    ])\n",
    "    return response.message.content\n",
    "\n",
    "prompt = \"Say hello to the class\"\n",
    "single_turn(prompt)"
   ]
  },
  {
   "cell_type": "markdown",
   "id": "6963de97-7f77-46e9-a78e-ca771a328692",
   "metadata": {},
   "source": [
    "# List of teams\n",
    "Here are the list of AFL and NFL team names. "
   ]
  },
  {
   "cell_type": "code",
   "execution_count": 47,
   "id": "15d75b16-d6d3-4250-95b1-ddf0229c4222",
   "metadata": {},
   "outputs": [],
   "source": [
    "afl_clubs = [\n",
    "    \"Adelaide Crows\",\n",
    "    \"Brisbane Lions\",\n",
    "    \"Carlton Blues\",\n",
    "    \"Collingwood Magpies\",\n",
    "    \"Essendon Bombers\",\n",
    "    \"Fremantle Dockers\",\n",
    "    \"Geelong Cats\",\n",
    "    \"Gold Coast Suns\",\n",
    "    \"Greater Western Sydney (GWS) Giants\",\n",
    "    \"Hawthorn Hawks\",\n",
    "    \"Melbourne Demons\",\n",
    "    \"North Melbourne Kangaroos\",\n",
    "    \"Port Adelaide Power\",\n",
    "    \"Richmond Tigers\",\n",
    "    \"St Kilda Saints\",\n",
    "    \"Sydney Swans\",\n",
    "    \"West Coast Eagles\",\n",
    "    \"Western Bulldogs\"\n",
    "]\n",
    "\n",
    "nfl_teams = [\n",
    "    \"Arizona Cardinals\",\n",
    "    \"Atlanta Falcons\",\n",
    "    \"Baltimore Ravens\",\n",
    "    \"Buffalo Bills\",\n",
    "    \"Carolina Panthers\",\n",
    "    \"Chicago Bears\",\n",
    "    \"Cincinnati Bengals\",\n",
    "    \"Cleveland Browns\",\n",
    "    \"Dallas Cowboys\",\n",
    "    \"Denver Broncos\",\n",
    "    \"Detroit Lions\",\n",
    "    \"Green Bay Packers\",\n",
    "    \"Houston Texans\",\n",
    "    \"Indianapolis Colts\",\n",
    "    \"Jacksonville Jaguars\",\n",
    "    \"Kansas City Chiefs\",\n",
    "    \"Las Vegas Raiders\",\n",
    "    \"Los Angeles Chargers\",\n",
    "    \"Los Angeles Rams\",\n",
    "    \"Miami Dolphins\",\n",
    "    \"Minnesota Vikings\",\n",
    "    \"New England Patriots\",\n",
    "    \"New Orleans Saints\",\n",
    "    \"New York Giants\",\n",
    "    \"New York Jets\",\n",
    "    \"Philadelphia Eagles\",\n",
    "    \"Pittsburgh Steelers\",\n",
    "    \"San Francisco 49ers\",\n",
    "    \"Seattle Seahawks\",\n",
    "    \"Tampa Bay Buccaneers\",\n",
    "    \"Tennessee Titans\",\n",
    "    \"Washington Commanders\"\n",
    "]"
   ]
  },
  {
   "cell_type": "markdown",
   "id": "402c4e83-a56b-4c94-a498-41a3c9817b15",
   "metadata": {},
   "source": [
    "## Basic Prompting"
   ]
  },
  {
   "cell_type": "code",
   "execution_count": 48,
   "id": "b79f41ae-433d-4654-ae7e-23b7ca5a404e",
   "metadata": {},
   "outputs": [
    {
     "name": "stdout",
     "output_type": "stream",
     "text": [
      "Adelaide Crows: Australian\n",
      "Brisbane Lions: Australian\n",
      "Carlton Blues: Australian\n",
      "Collingwood Magpies: Australian\n",
      "Essendon Bombers: Australian\n",
      "Fremantle Dockers: Australian\n",
      "Geelong Cats: Australian\n",
      "Gold Coast Suns: Australian\n",
      "Greater Western Sydney (GWS) Giants: Australian\n",
      "Hawthorn Hawks: Australian\n",
      "Melbourne Demons: Australian\n",
      "North Melbourne Kangaroos: Australian\n",
      "Port Adelaide Power: Australian\n",
      "Richmond Tigers: Australian\n",
      "St Kilda Saints: Australian\n",
      "Sydney Swans: Australian\n",
      "West Coast Eagles: Australian\n",
      "Western Bulldogs: Australian\n",
      "Arizona Cardinals: American\n",
      "Atlanta Falcons: American\n",
      "Baltimore Ravens: American\n",
      "Buffalo Bills: American\n",
      "Carolina Panthers: American\n",
      "Chicago Bears: American\n",
      "Cincinnati Bengals: American\n",
      "Cleveland Browns: American\n",
      "Dallas Cowboys: American\n",
      "Denver Broncos: American\n",
      "Detroit Lions: American\n",
      "Green Bay Packers: American\n",
      "Houston Texans: American\n",
      "Indianapolis Colts: American\n",
      "Jacksonville Jaguars: American\n",
      "Kansas City Chiefs: American\n",
      "Las Vegas Raiders: American\n",
      "Los Angeles Chargers: American\n",
      "Los Angeles Rams: American\n",
      "Miami Dolphins: American\n",
      "Minnesota Vikings: American\n",
      "New England Patriots: American\n",
      "New Orleans Saints: American\n",
      "New York Giants: American\n",
      "New York Jets: American\n",
      "Philadelphia Eagles: American\n",
      "Pittsburgh Steelers: American\n",
      "San Francisco 49ers: American\n",
      "Seattle Seahawks: American\n",
      "Tampa Bay Buccaneers: American\n",
      "Tennessee Titans: American\n",
      "Washington Commanders: American\n",
      "1.0\n"
     ]
    }
   ],
   "source": [
    "import numpy as np\n",
    "eval_map = {\"australian\": afl_clubs, \"american\": nfl_teams}\n",
    "\n",
    "# Remove key let students code themselves\n",
    "score = []\n",
    "for nationality, teams in eval_map.items():\n",
    "    for team in teams:\n",
    "        prompt = \"Output if this is an australian or american team, only print australian or american no other output: \" + f\"{team}\"\n",
    "        #print(prompt)\n",
    "        response = single_turn(prompt).strip()\n",
    "        score.append(response.lower() == nationality)\n",
    "        print(f\"{team}: {response}\")\n",
    "\n",
    "print(np.array(score).mean())"
   ]
  },
  {
   "cell_type": "markdown",
   "id": "123bdf5e-bcd7-4b7c-9fb4-9ef9106a9f55",
   "metadata": {},
   "source": [
    "## Taking just the team name\n",
    "What happens if we don't provide the full context. What happens to our score then?"
   ]
  },
  {
   "cell_type": "code",
   "execution_count": 49,
   "id": "06d3e9df-17b7-41ab-9ee4-39e9068ba161",
   "metadata": {},
   "outputs": [
    {
     "name": "stdout",
     "output_type": "stream",
     "text": [
      "Crows: Australian\n",
      "Lions: Australian\n",
      "Blues: Australian\n",
      "Magpies: Australian\n",
      "Bombers: American\n",
      "Dockers: Australian\n",
      "Cats: Australian\n",
      "Suns: American\n",
      "Giants: Australian\n",
      "Hawks: Australian\n",
      "Demons: Australian\n",
      "Kangaroos: Australian\n",
      "Power: Australian\n",
      "Tigers: Australian\n",
      "Saints: Australian\n",
      "Swans: Australian\n",
      "Eagles: Australian\n",
      "Bulldogs: Australian\n",
      "Cardinals: American\n",
      "Falcons: Australian\n",
      "Ravens: Australian\n",
      "Bills: American\n",
      "Panthers: Australian\n",
      "Bears: Australian\n",
      "Bengals: American\n",
      "Browns: American\n",
      "Cowboys: Australian\n",
      "Broncos: Australian\n",
      "Lions: Australian\n",
      "Packers: American\n",
      "Texans: American\n",
      "Colts: Australian\n",
      "Jaguars: Australian\n",
      "Chiefs: American\n",
      "Raiders: Australian\n",
      "Chargers: American\n",
      "Rams: American\n",
      "Dolphins: Australian\n",
      "Vikings: American\n",
      "Patriots: American\n",
      "Saints: Australian\n",
      "Giants: American\n",
      "Jets: American\n",
      "Eagles: Australian\n",
      "Steelers: American\n",
      "49ers: American\n",
      "Seahawks: American\n",
      "Buccaneers: American\n",
      "Titans: Australian\n",
      "Commanders: American\n",
      "0.68\n"
     ]
    }
   ],
   "source": [
    "score = []\n",
    "\n",
    "for nationality, teams in eval_map.items():\n",
    "    for team in teams:\n",
    "        team = team.rsplit(maxsplit =1)[-1]\n",
    "        prompt = \"Output if this is an australian or american team, only print australian or american no other output: \" + f\"{team}\"\n",
    "        response = single_turn(prompt).strip()\n",
    "        score.append(response.lower() == nationality)\n",
    "        print(f\"{team}: {response}\")\n",
    "print(np.array(score).mean())"
   ]
  },
  {
   "cell_type": "markdown",
   "id": "fe9dab1b-83fe-4439-9e69-aa78b43a3456",
   "metadata": {},
   "source": [
    "## Now try for news articles\n",
    "\n",
    "TODO: Ravin will fill this in. But its basically the same as above. Instead of a team name it'll take in what is a synthetically generated news article and classify it"
   ]
  }
 ],
 "metadata": {
  "kernelspec": {
   "display_name": "Python 3 (ipykernel)",
   "language": "python",
   "name": "python3"
  },
  "language_info": {
   "codemirror_mode": {
    "name": "ipython",
    "version": 3
   },
   "file_extension": ".py",
   "mimetype": "text/x-python",
   "name": "python",
   "nbconvert_exporter": "python",
   "pygments_lexer": "ipython3",
   "version": "3.11.11"
  }
 },
 "nbformat": 4,
 "nbformat_minor": 5
}
