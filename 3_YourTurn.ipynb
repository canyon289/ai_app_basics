{
 "cells": [
  {
   "cell_type": "markdown",
   "id": "6200eb5f-e68e-4174-ad72-62515a2521d3",
   "metadata": {},
   "source": [
    "# Iterate\n",
    "Make your own changes. Try different prompts, use cases, etc. See what happens.\n",
    "\n",
    "Think about the tradeoff between quality and inference cost. What makes the most sense for this application?\n",
    "\n",
    "Once you try a couple things out show a partner, get their point of view on your choices."
   ]
  }
 ],
 "metadata": {
  "kernelspec": {
   "display_name": "Python 3 (ipykernel)",
   "language": "python",
   "name": "python3"
  },
  "language_info": {
   "codemirror_mode": {
    "name": "ipython",
    "version": 3
   },
   "file_extension": ".py",
   "mimetype": "text/x-python",
   "name": "python",
   "nbconvert_exporter": "python",
   "pygments_lexer": "ipython3",
   "version": "3.11.11"
  }
 },
 "nbformat": 4,
 "nbformat_minor": 5
}
