{
 "cells": [
  {
   "cell_type": "markdown",
   "id": "6200eb5f-e68e-4174-ad72-62515a2521d3",
   "metadata": {},
   "source": [
    "# Iterate\n",
    "Make your own changes. Try different prompts, use cases, etc. See what happens.\n",
    "\n",
    "Think about the tradeoff between quality and inference cost. What makes the most sense for this application?\n",
    "\n",
    "Once you try a couple things out show a partner, get their point of view on your choices.\n",
    "\n",
    "There are no rules here. We suggest\n",
    "\n",
    "1. Trying different things with the football classifier\n",
    "2. Picking any app design you want and testing. For example\n",
    "   * Try making a poem generator that uses the word egg three times\n",
    "   * Get the LLM to write an essay about ponies\n",
    "   * Whatever else you can think of!\n",
    "\n",
    "Just be sure to go through all the steps to build a well supported and tested app. \n",
    "With that you have all the basics to build apps in production!"
   ]
  }
 ],
 "metadata": {
  "kernelspec": {
   "display_name": "Python 3 (ipykernel)",
   "language": "python",
   "name": "python3"
  },
  "language_info": {
   "codemirror_mode": {
    "name": "ipython",
    "version": 3
   },
   "file_extension": ".py",
   "mimetype": "text/x-python",
   "name": "python",
   "nbconvert_exporter": "python",
   "pygments_lexer": "ipython3",
   "version": "3.11.11"
  }
 },
 "nbformat": 4,
 "nbformat_minor": 5
}
