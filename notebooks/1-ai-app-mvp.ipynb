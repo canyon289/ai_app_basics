{
 "cells": [
  {
   "cell_type": "markdown",
   "metadata": {},
   "source": [
    "# Part 1: Building the MVP AI System  \n",
    "\n",
    "In this first part, we’ll build a **zero-shot classification system** using a local **LLM-powered approach**. Instead of training a model from scratch, we’ll leverage **Gemma 2B**’s in-context learning to classify sports teams as **from the US or Australia**—without any fine-tuning.  \n",
    "\n",
    "But an AI system is **more than just a model**. We'll also integrate:  \n",
    "- **Gradio** to build an interactive front end.  \n",
    "- **SQLite** to store data and results.  \n",
    "- **Datasette** for observability, allowing us to inspect predictions and iterate effectively.  \n",
    "\n",
    "By the end of this section, you’ll have a **working MVP AI system**—a functional app with a front end, database, and structured observability to track and refine performance.  \n"
   ]
  },
  {
   "cell_type": "markdown",
   "metadata": {},
   "source": []
  }
 ],
 "metadata": {
  "language_info": {
   "name": "python"
  }
 },
 "nbformat": 4,
 "nbformat_minor": 2
}
