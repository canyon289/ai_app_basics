{
 "cells": [
  {
   "cell_type": "markdown",
   "metadata": {},
   "source": [
    "# Part 2: Vibe-Based Evaluation  \n",
    "\n",
    "Now that we have a working MVP, it’s time to test it—but before diving into structured evaluation, we’ll rely on **intuition and experimentation**.  \n",
    "\n",
    "In this part, we’ll:  \n",
    "- **Try different prompts** to explore how the model responds.  \n",
    "- **Observe and analyze** the model’s behavior across examples.  \n",
    "- **Identify weak spots** where results seem inconsistent or unreliable.  \n",
    "\n",
    "This phase mirrors how many LLM practitioners start—tweaking and iterating based on \"vibes\" before committing to structured testing. Treat this as an **exploratory phase**: experiment, adjust, and get a feel for what works before formalizing evaluation criteria.  \n"
   ]
  },
  {
   "cell_type": "code",
   "execution_count": 18,
   "metadata": {},
   "outputs": [
    {
     "data": {
      "text/plain": [
       "\"Hello everyone! 👋😊 \\n\\nIt's nice to be here.  Let's have a great day together.  \\n\""
      ]
     },
     "execution_count": 18,
     "metadata": {},
     "output_type": "execute_result"
    }
   ],
   "source": [
    "from ollama import chat\n",
    "from ollama import ChatResponse\n",
    "\n",
    "model = 'gemma2:2b'\n",
    "\n",
    "def single_turn(prompt):\n",
    "    response: ChatResponse = chat(model=model, messages=[\n",
    "      {\n",
    "        'role': 'user',\n",
    "        'content': prompt,\n",
    "      },\n",
    "    ])\n",
    "    return response['message']['content']\n",
    "\n",
    "prompt = \"Say hello to the class\"\n",
    "single_turn(prompt)"
   ]
  },
  {
   "cell_type": "markdown",
   "metadata": {},
   "source": [
    "## Your First Evals"
   ]
  },
  {
   "cell_type": "markdown",
   "metadata": {},
   "source": [
    "Here are the list of AFL and NFL team names.\n",
    "Check if the model gets things right.\n",
    "This means you'll need to create a scoring and aggregation function.\n"
   ]
  },
  {
   "cell_type": "code",
   "execution_count": 19,
   "metadata": {},
   "outputs": [],
   "source": [
    "afl_team = \"Carlton Blues\"\n",
    "american_team = \"Tennessee Titans\"\n"
   ]
  },
  {
   "cell_type": "code",
   "execution_count": 20,
   "metadata": {},
   "outputs": [],
   "source": [
    "afl_clubs = [\n",
    "    \"Adelaide Crows\",\n",
    "    \"Brisbane Lions\",\n",
    "    \"Carlton Blues\",\n",
    "    \"Collingwood Magpies\",\n",
    "    \"Essendon Bombers\",\n",
    "    \"Fremantle Dockers\",\n",
    "    \"Geelong Cats\",\n",
    "    \"Gold Coast Suns\",\n",
    "    \"Greater Western Sydney (GWS) Giants\",\n",
    "    \"Hawthorn Hawks\",\n",
    "    \"Melbourne Demons\",\n",
    "    \"North Melbourne Kangaroos\",\n",
    "    \"Port Adelaide Power\",\n",
    "    \"Richmond Tigers\",\n",
    "    \"St Kilda Saints\",\n",
    "    \"Sydney Swans\",\n",
    "    \"West Coast Eagles\",\n",
    "    \"Western Bulldogs\"\n",
    "]\n",
    "\n",
    "nfl_teams = [\n",
    "    \"Arizona Cardinals\",\n",
    "    \"Atlanta Falcons\",\n",
    "    \"Baltimore Ravens\",\n",
    "    \"Buffalo Bills\",\n",
    "    \"Carolina Panthers\",\n",
    "    \"Chicago Bears\",\n",
    "    \"Cincinnati Bengals\",\n",
    "    \"Cleveland Browns\",\n",
    "    \"Dallas Cowboys\",\n",
    "    \"Denver Broncos\",\n",
    "    \"Detroit Lions\",\n",
    "    \"Green Bay Packers\",\n",
    "    \"Houston Texans\",\n",
    "    \"Indianapolis Colts\",\n",
    "    \"Jacksonville Jaguars\",\n",
    "    \"Kansas City Chiefs\",\n",
    "    \"Las Vegas Raiders\",\n",
    "    \"Los Angeles Chargers\",\n",
    "    \"Los Angeles Rams\",\n",
    "    \"Miami Dolphins\",\n",
    "    \"Minnesota Vikings\",\n",
    "    \"New England Patriots\",\n",
    "    \"New Orleans Saints\",\n",
    "    \"New York Giants\",\n",
    "    \"New York Jets\",\n",
    "    \"Philadelphia Eagles\",\n",
    "    \"Pittsburgh Steelers\",\n",
    "    \"San Francisco 49ers\",\n",
    "    \"Seattle Seahawks\",\n",
    "    \"Tampa Bay Buccaneers\",\n",
    "    \"Tennessee Titans\",\n",
    "    \"Washington Commanders\"\n",
    "]"
   ]
  },
  {
   "cell_type": "code",
   "execution_count": 21,
   "metadata": {},
   "outputs": [
    {
     "name": "stdout",
     "output_type": "stream",
     "text": [
      "Adelaide Crows: Australian\n",
      "Brisbane Lions: Australian\n",
      "Carlton Blues: Australian\n",
      "Collingwood Magpies: Australian\n",
      "Essendon Bombers: Australian\n",
      "Fremantle Dockers: Australian\n",
      "Geelong Cats: Australian\n",
      "Gold Coast Suns: Australian\n",
      "Greater Western Sydney (GWS) Giants: Australian\n",
      "Hawthorn Hawks: Australian\n",
      "Melbourne Demons: Australian\n",
      "North Melbourne Kangaroos: Australian\n",
      "Port Adelaide Power: Australian\n",
      "Richmond Tigers: Australian\n",
      "St Kilda Saints: Australian\n",
      "Sydney Swans: Australian\n",
      "West Coast Eagles: Australian\n",
      "Western Bulldogs: Australian\n",
      "Arizona Cardinals: American\n",
      "Atlanta Falcons: American\n",
      "Baltimore Ravens: American\n",
      "Buffalo Bills: American\n",
      "Carolina Panthers: American\n",
      "Chicago Bears: American\n",
      "Cincinnati Bengals: American\n",
      "Cleveland Browns: American\n",
      "Dallas Cowboys: American\n",
      "Denver Broncos: American\n",
      "Detroit Lions: American\n",
      "Green Bay Packers: American\n",
      "Houston Texans: American\n",
      "Indianapolis Colts: American\n",
      "Jacksonville Jaguars: American\n",
      "Kansas City Chiefs: American\n",
      "Las Vegas Raiders: American\n",
      "Los Angeles Chargers: American\n",
      "Los Angeles Rams: American\n",
      "Miami Dolphins: American\n",
      "Minnesota Vikings: American\n",
      "New England Patriots: American\n",
      "New Orleans Saints: American\n",
      "New York Giants: American\n",
      "New York Jets: American\n",
      "Philadelphia Eagles: American\n",
      "Pittsburgh Steelers: American\n",
      "San Francisco 49ers: American\n",
      "Seattle Seahawks: American\n",
      "Tampa Bay Buccaneers: American\n",
      "Tennessee Titans: American\n",
      "Washington Commanders: American\n",
      "1.0\n"
     ]
    }
   ],
   "source": [
    "import numpy as np\n",
    "eval_map = {\"australian\": afl_clubs, \"american\": nfl_teams}\n",
    "\n",
    "# Remove key let students code themselves\n",
    "score = []\n",
    "for nationality, teams in eval_map.items():\n",
    "    for team in teams:\n",
    "        prompt = \"Output if this is an australian or american team, only print australian or american no other output: \" + f\"{team}\"\n",
    "        #print(prompt)\n",
    "        response = single_turn(prompt).strip()\n",
    "        score.append(response.lower() == nationality)\n",
    "        print(f\"{team}: {response}\")\n",
    "\n",
    "print(np.array(score).mean())"
   ]
  },
  {
   "cell_type": "markdown",
   "metadata": {},
   "source": [
    "## Maing things harder. Taking just the team name\n",
    "What happens if we don't provide the full context. What happens to our score then?"
   ]
  },
  {
   "cell_type": "markdown",
   "metadata": {},
   "source": []
  },
  {
   "cell_type": "code",
   "execution_count": 22,
   "metadata": {},
   "outputs": [],
   "source": [
    "afl_names = ['Crows',\n",
    " 'Lions',\n",
    " 'Blues',\n",
    " 'Magpies',\n",
    " 'Bombers',\n",
    " 'Dockers',\n",
    " 'Cats',\n",
    " 'Suns',\n",
    " 'Giants',\n",
    " 'Hawks',\n",
    " 'Demons',\n",
    " 'Kangaroos',\n",
    " 'Power',\n",
    " 'Tigers',\n",
    " 'Saints',\n",
    " 'Swans',\n",
    " 'Eagles',\n",
    " 'Bulldogs']"
   ]
  },
  {
   "cell_type": "code",
   "execution_count": 23,
   "metadata": {},
   "outputs": [],
   "source": [
    "nfl_teams = ['Cardinals',\n",
    " 'Falcons',\n",
    " 'Ravens',\n",
    " 'Bills',\n",
    " 'Panthers',\n",
    " 'Bears',\n",
    " 'Bengals',\n",
    " 'Browns',\n",
    " 'Cowboys',\n",
    " 'Broncos',\n",
    " 'Lions',\n",
    " 'Packers',\n",
    " 'Texans',\n",
    " 'Colts',\n",
    " 'Jaguars',\n",
    " 'Chiefs',\n",
    " 'Raiders',\n",
    " 'Chargers',\n",
    " 'Rams',\n",
    " 'Dolphins',\n",
    " 'Vikings',\n",
    " 'Patriots',\n",
    " 'Saints',\n",
    " 'Giants',\n",
    " 'Jets',\n",
    " 'Eagles',\n",
    " 'Steelers',\n",
    " '49ers',\n",
    " 'Seahawks',\n",
    " 'Buccaneers',\n",
    " 'Titans',\n",
    " 'Commanders']"
   ]
  },
  {
   "cell_type": "code",
   "execution_count": 24,
   "metadata": {},
   "outputs": [
    {
     "name": "stdout",
     "output_type": "stream",
     "text": [
      "Cardinals: American\n",
      "Falcons: Australian\n",
      "Ravens: American\n",
      "Bills: American\n",
      "Panthers: Australian\n",
      "Bears: American\n",
      "Bengals: American\n",
      "Browns: American\n",
      "Cowboys: American\n",
      "Broncos: American\n",
      "Lions: Australian\n",
      "Packers: American\n",
      "Texans: American\n",
      "Colts: Australian\n",
      "Jaguars: Australian\n",
      "Chiefs: American\n",
      "Raiders: Australian\n",
      "Chargers: American\n",
      "Rams: American\n",
      "Dolphins: Australian\n",
      "Vikings: Australian\n",
      "Patriots: American\n",
      "Saints: Australian\n",
      "Giants: Australian\n",
      "Jets: American\n",
      "Eagles: American\n",
      "Steelers: American\n",
      "49ers: American\n",
      "Seahawks: American\n",
      "Buccaneers: American\n",
      "Titans: Australian\n",
      "Commanders: American\n",
      "Crows: Australian\n",
      "Lions: Australian\n",
      "Blues: Australian\n",
      "Magpies: Australian\n",
      "Bombers: Australian\n",
      "Dockers: Australian\n",
      "Cats: Australian\n",
      "Suns: Australian\n",
      "Giants: American\n",
      "Hawks: American\n",
      "Demons: Australian\n",
      "Kangaroos: Australian\n",
      "Power: Australian\n",
      "Tigers: Australian\n",
      "Saints: American\n",
      "Swans: Australian\n",
      "Eagles: American\n",
      "Bulldogs: Australian\n",
      "0.85\n"
     ]
    }
   ],
   "source": [
    "eval_map = {\"american\": nfl_teams, \"australian\": afl_names}\n",
    "\n",
    "core = []\n",
    "\n",
    "for nationality, teams in eval_map.items():\n",
    "    for team in teams:\n",
    "        team = team.rsplit(maxsplit =1)[-1]\n",
    "        prompt = \"Output if this is an australian or american team, only print australian or american no other output: \" + f\"{team}\"\n",
    "        response = single_turn(prompt).strip()\n",
    "        score.append(response.lower() == nationality)\n",
    "        print(f\"{team}: {response}\")\n",
    "print(np.array(score).mean())"
   ]
  },
  {
   "cell_type": "markdown",
   "metadata": {},
   "source": [
    "## News Articles\n",
    "Now try this for some long form articles. This time we won't give you an answer key, we'll let you figure things out.\n",
    "\n",
    "\n",
    "TODO: Ravin will fill this in. But its basically the same as above. Instead of a team name it'll take in what is a synthetically generated news article and classify it"
   ]
  },
  {
   "cell_type": "markdown",
   "metadata": {},
   "source": []
  }
 ],
 "metadata": {
  "kernelspec": {
   "display_name": "gemma-app",
   "language": "python",
   "name": "python3"
  },
  "language_info": {
   "codemirror_mode": {
    "name": "ipython",
    "version": 3
   },
   "file_extension": ".py",
   "mimetype": "text/x-python",
   "name": "python",
   "nbconvert_exporter": "python",
   "pygments_lexer": "ipython3",
   "version": "3.11.9"
  }
 },
 "nbformat": 4,
 "nbformat_minor": 2
}
