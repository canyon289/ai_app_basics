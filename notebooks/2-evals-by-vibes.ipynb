{
 "cells": [
  {
   "cell_type": "markdown",
   "metadata": {},
   "source": [
    "# Part 2: Vibe-Based Evaluation  \n",
    "\n",
    "Now that we have a working MVP, it’s time to test it—but before diving into structured evaluation, we’ll rely on **intuition and experimentation**.  \n",
    "\n",
    "In this part, we’ll:  \n",
    "- **Try different prompts** to explore how the model responds.  \n",
    "- **Observe and analyze** the model’s behavior across examples.  \n",
    "- **Identify weak spots** where results seem inconsistent or unreliable.  \n",
    "\n",
    "This phase mirrors how many LLM practitioners start—tweaking and iterating based on \"vibes\" before committing to structured testing. Treat this as an **exploratory phase**: experiment, adjust, and get a feel for what works before formalizing evaluation criteria.  \n",
    "\n",
    "## How to do this\n",
    "We're going to be using Ollama's command line interface. \n",
    "You can access it by opening a terminal running `ollama run gemma2:2b`\n",
    "\n",
    "From there you will have access to a chat client.\n",
    "\n",
    "## Our goal\n",
    "We want an LLM that can tell us if a string of text is about either an American Football team, or an Australian one.\n",
    "For example, the Adelaide Crows, or Tennesee Titans.\n",
    "\n",
    "We want this classifier to just output America, or Australia.\n",
    "\n",
    "Gice it a try and see what results you get. Use your intuition to get to the intended behavior."
   ]
  },
  {
   "cell_type": "markdown",
   "metadata": {},
   "source": [
    "## 🎯 Recap: What We Learned  \n",
    "\n",
    "\n",
    "### Getting started quickly\n",
    "\n",
    "### \"Prompt Engineering\"\n",
    "\n",
    "### LLM Intuition"
   ]
  }
 ],
 "metadata": {
  "kernelspec": {
   "display_name": "Python 3 (ipykernel)",
   "language": "python",
   "name": "python3"
  },
  "language_info": {
   "codemirror_mode": {
    "name": "ipython",
    "version": 3
   },
   "file_extension": ".py",
   "mimetype": "text/x-python",
   "name": "python",
   "nbconvert_exporter": "python",
   "pygments_lexer": "ipython3",
   "version": "3.11.11"
  }
 },
 "nbformat": 4,
 "nbformat_minor": 4
}
