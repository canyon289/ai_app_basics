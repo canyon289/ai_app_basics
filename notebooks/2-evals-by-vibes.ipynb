{
 "cells": [
  {
   "cell_type": "markdown",
   "metadata": {},
   "source": [
    "# Part 2: Vibe-Based Evaluation  \n",
    "\n",
    "Now that we have a working MVP, it’s time to test it—but before diving into structured evaluation, we’ll rely on **intuition and experimentation**.  \n",
    "\n",
    "In this part, we’ll:  \n",
    "- **Try different prompts** to explore how the model responds.  \n",
    "- **Observe and analyze** the model’s behavior across examples.  \n",
    "- **Identify weak spots** where results seem inconsistent or unreliable.  \n",
    "\n",
    "This phase mirrors how many LLM practitioners start—tweaking and iterating based on \"vibes\" before committing to structured testing. Treat this as an **exploratory phase**: experiment, adjust, and get a feel for what works before formalizing evaluation criteria.  \n"
   ]
  },
  {
   "cell_type": "markdown",
   "metadata": {},
   "source": []
  }
 ],
 "metadata": {
  "language_info": {
   "name": "python"
  }
 },
 "nbformat": 4,
 "nbformat_minor": 2
}
