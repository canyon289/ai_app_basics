{
 "cells": [
  {
   "cell_type": "markdown",
   "metadata": {},
   "source": [
    "# Part 4: Optimization  \n",
    "\n",
    "Now that we have a structured evaluation process, it’s time to **optimize and refine** our system.  \n",
    "\n",
    "In this part, we’ll:  \n",
    "- **Test different models** to compare their strengths.  \n",
    "- **Analyze trade-offs** between speed, performance, and cost.  \n",
    "- **Make informed decisions** about improvements and potential deployment.  \n",
    "\n",
    "This is where we shift from a prototype to something more **robust and practical**. Whether you're thinking about deploying an LLM system or simply improving local performance, this step will help you make data-driven optimizations.  "
   ]
  },
  {
   "cell_type": "markdown",
   "metadata": {},
   "source": [
    "Unfortunately there's no free lunch. \n",
    "Let's change some inference parameters and see if we can get a speedup,\n",
    "but use our evals to understand what the tradeoff is.\n",
    "\n",
    "## Steps\n",
    "* Run inference but this time focus on engineering metrics, in our case we care about clock time.\n",
    "  * Measure 10 responses using the an `gemma2:2b-instruct-fp16` model, then repeat with a `gemma2:2b-instruct-q2_K` model\n",
    "  * Measure the total generation time using python.\n",
    "  * Think about a confounder for generation time, something that strongly effects it. Use some basic mathematics to account for this.\n",
    "* Before running evals, what is different about these models?\n",
    "  * Hint: Google quantization, look at the model size on Ollama, think about what is expensive during inference.\n",
    "* After runing evals\n",
    "  * What do you notice is different?\n",
    "  * What about the quality of the responses? How does that change?"
   ]
  },
  {
   "cell_type": "code",
   "execution_count": 1,
   "metadata": {},
   "outputs": [],
   "source": [
    "from ollama import chat\n",
    "from ollama import ChatResponse\n",
    "import time\n",
    "import os"
   ]
  },
  {
   "cell_type": "code",
   "execution_count": 2,
   "metadata": {},
   "outputs": [],
   "source": [
    "article = \"\"\"\n",
    "**A Journey Through Time: The History and Achievements of North Melbourne Kangaroos**\\n\\nThe North Melbourne Kangaroos, affectionately known as the Magpies prior to their 1983 rebranding, are a storied team with a rich tapestry of history. Nestled in Ballarat, Victoria, these kangaroos have been the pride of the region since their inception in 1924. This article delves into their remarkable journey, from their early days as a minor league side to becoming a significant force in Australian rugby union.\\n\\n**The Founding of the Kangaroos**\\n\\nNorth Melbourne Kangaroos were born on November 6, 1924, when the North Melbourne Rugby Union Club was established. The club\\'s name change to Kangaroos occurred after their 1983 merger with Torquay United, a move that reflected their transition from being based in Melbourne to Ballarat.\\n\\n**A Legacy of Excellence**\\n\\nThe Kangaroos\\' history is marked by excellence and resilience. Over the decades, they\\'ve claimed multiple State Titles, showcasing their dominance on the field. Notable players such as David Nasmith and Adam Droms have been luminaries of the team, with Nasmith holding the distinction of being one of the youngest players to grace the field in 1958 and still active today.\\n\\n**Current Stance in the League**\\n\\nSince their move to Ballarat in 2019, the North Melbourne Kangaroos have become a prominent side in the Victorian top-tier competition. Their transition was met with both anticipation and nostalgia from their old fans, who cherished the memories of playing at Belmore Ground, the club\\'s historic home.\\n\\n**Community Connection**\\n\\nThe kangaroos are deeply rooted in the Ballarat community. Their branding includes the iconic \"Kangaroo\" logo, symbolizing their connection to the local wildlife. The team has also embraced community involvement, with players and staff engaging actively in local initiatives, fostering a strong bond between the club and its surroundings.\\n\\n**Engaging with Fans**\\n\\nIn keeping with rugby union traditions, the Kangaroos embrace close-knit relationships with their fans. Whether through match days or annual events, the team consistently demonstrates a commitment to community spirit, further cementing its identity as a local institution.\\n\\n**Looking Ahead**\\n\\nThe future of North Melbourne Kangaroos looks promising. With a focus on developing young talent and maintaining high standards, the club is poised for continued success. Fans can expect an exciting season ahead, with the kangaroos aiming to uphold their legacy while exploring new horizons in the league.\\n\\nIn conclusion, the North Melbourne Kangaroos represent more than just a rugby team; they are a symbol of pride for Ballarat and a testament to the enduring spirit of sportsmanship. As they continue to navigate the challenges and opportunities of modern rugby union, one can look forward to many thrilling matches and memorable moments in their storied history.'\n",
    "\"\"\"\n"
   ]
  },
  {
   "cell_type": "code",
   "execution_count": 12,
   "metadata": {},
   "outputs": [
    {
     "data": {
      "text/plain": [
       "('Australian', 1.8314340114593506)"
      ]
     },
     "execution_count": 12,
     "metadata": {},
     "output_type": "execute_result"
    }
   ],
   "source": [
    "model = 'gemma2:2b'\n",
    "\n",
    "def single_turn_with_time(prompt, model):\n",
    "    start_time = time.time()\n",
    "    response: ChatResponse = chat(model=model, messages=[\n",
    "      {\n",
    "        'role': 'user',\n",
    "        'content': prompt,\n",
    "      },\n",
    "    ])\n",
    "    end_time = time.time()\n",
    "    \n",
    "    total_time = end_time - start_time\n",
    "    return response.message.content.strip(), total_time\n",
    "\n",
    "\n",
    "prompt = f\"Is this about an australian or american team?, print no other words: {article}?\"\n",
    "single_turn_with_time(prompt, model)"
   ]
  },
  {
   "cell_type": "code",
   "execution_count": 37,
   "metadata": {},
   "outputs": [
    {
     "name": "stdout",
     "output_type": "stream",
     "text": [
      "Response Australian: Seconds 0.27884602546691895\n",
      "Response Australian: Seconds 0.12660813331604004\n",
      "Response Australian: Seconds 0.11986923217773438\n",
      "Response Australian: Seconds 0.1192779541015625\n",
      "Response Australian: Seconds 0.11918902397155762\n",
      "Response Australian: Seconds 0.11927080154418945\n",
      "Response Australian: Seconds 0.11918997764587402\n",
      "Response Australian: Seconds 0.11976504325866699\n",
      "Response Australian: Seconds 0.11904382705688477\n",
      "Response Australian: Seconds 0.11846566200256348\n"
     ]
    }
   ],
   "source": [
    "model = 'gemma2:2b-instruct-fp16'\n",
    "\n",
    "for i in range(10):\n",
    "    prompt = f\"Is this about an australian or american team?, print no other words: {article}?\"\n",
    "    print(\"Response {0}: Seconds {1}\".format(*single_turn_with_time(prompt, model=model)))"
   ]
  },
  {
   "cell_type": "code",
   "execution_count": 38,
   "metadata": {},
   "outputs": [
    {
     "name": "stdout",
     "output_type": "stream",
     "text": [
      "Response Australian: Characters per second 31.246467892744626\n",
      "Response Australian: Characters per second 78.37974607849367\n",
      "Response Australian: Characters per second 84.15875436413981\n",
      "Response Australian: Characters per second 83.84130874113224\n",
      "Response Australian: Characters per second 84.87075044668241\n",
      "Response australian: Characters per second 69.03226868295188\n",
      "Response Australian: Characters per second 84.06614969264164\n",
      "Response australian: Characters per second 67.49004778991745\n",
      "Response australian: Characters per second 67.59010555152688\n",
      "Response Australian: Characters per second 83.78018185014142\n"
     ]
    }
   ],
   "source": [
    "model = 'gemma2:2b-instruct-fp16'\n",
    "\n",
    "for i in range(10):\n",
    "    prompt = f\"Is this about an australian or american team?, print no other words: {article}?\"\n",
    "    response, wall_time = single_turn_with_time(prompt, model=model)\n",
    "    character_per_second = len(response) / wall_time\n",
    "    print(\"Response {0}: Characters per second {1}\".format(response, character_per_second))\n"
   ]
  },
  {
   "cell_type": "markdown",
   "metadata": {},
   "source": [
    "## Quantized model\n",
    "Let's try the quantized model. See if there's anything you notice\n"
   ]
  },
  {
   "cell_type": "code",
   "execution_count": 39,
   "metadata": {},
   "outputs": [
    {
     "name": "stdout",
     "output_type": "stream",
     "text": [
      "Response An American team: Seconds 0.2008829116821289\n",
      "Response Australian: Seconds 0.07353711128234863\n",
      "Response American: Seconds 0.07454705238342285\n",
      "Response American: Seconds 0.06990504264831543\n",
      "Response Australian: Seconds 0.06817793846130371\n",
      "Response American \n",
      "\n",
      "\n",
      "It's actually quite confusing as it seems like a mix!  Here's why:\n",
      "\n",
      "* **Ballarat is a city in Australia.** So the team has ties to Australia. \n",
      "* ***Rugby Union is a major sport in Australia, but also American football too.**\n",
      "* The article uses terms common for Australian Rugby union (State Titles, etc). But it does mention \"American\" to show potential of a connection to America?\n",
      "\n",
      "\n",
      "Let me know if you'd like to explore either the Australian or American angles.: Seconds 1.4605000019073486\n",
      "Response An American team.: Seconds 0.10732197761535645\n",
      "Response Australian: Seconds 0.06857419013977051\n",
      "Response Australian: Seconds 0.06805300712585449\n",
      "Response Australian: Seconds 0.06967926025390625\n"
     ]
    }
   ],
   "source": [
    "model = 'gemma2:2b-instruct-q2_K'\n",
    "\n",
    "for i in range(10):\n",
    "    prompt = f\"Is this about an australian or american team?, print no other words: {article}?\"\n",
    "    print(\"Response {0}: Seconds {1}\".format(*single_turn_with_time(prompt, model=model)))"
   ]
  },
  {
   "cell_type": "code",
   "execution_count": 40,
   "metadata": {},
   "outputs": [
    {
     "name": "stdout",
     "output_type": "stream",
     "text": [
      "Response Australian: Characters per second 58.254303130976574\n",
      "Response American: Characters per second 65.32585997776683\n",
      "Response American: Characters per second 109.18650366238981\n",
      "Response American: Characters per second 115.98730703021839\n",
      "Response Australian: Characters per second 147.99264677343663\n",
      "Response American: Characters per second 117.83614686309284\n",
      "Response Australian: Characters per second 147.07154578734028\n",
      "Response American: Characters per second 117.84442376244579\n",
      "Response American: Characters per second 115.86475138121547\n",
      "Response Australian \n",
      "\n",
      "\n",
      " \n",
      "\n",
      " \n",
      "I hope this helps! Let me know if you have any other questions.: Characters per second 247.76476775087292\n"
     ]
    }
   ],
   "source": [
    "model = 'gemma2:2b-instruct-q2_K'\n",
    "\n",
    "for i in range(10):\n",
    "    prompt = f\"Is this about an australian or american team?, print no other words: {article}?\"\n",
    "    response, wall_time = single_turn_with_time(prompt, model=model)\n",
    "    character_per_second = len(response) / wall_time\n",
    "    print(\"Response {0}: Characters per second {1}\".format(response, character_per_second))"
   ]
  },
  {
   "cell_type": "markdown",
   "metadata": {},
   "source": [
    "## Questions\n",
    "* What is the difference in tokens per second?\n",
    "* What about the quality of the answer?\n",
    "* Is this tradeoff worth it? "
   ]
  },
  {
   "cell_type": "markdown",
   "metadata": {},
   "source": [
    "### Why do we pick these models?\n",
    "In this exercise we want to highlight how drastically inference speed can change **even with the same model size**.\n",
    "For this exercise we picked the highest precision \"best quality\" weights and are comparing it to the \"fastest\" but lowest precision weights.\n",
    "\n",
    "Quantization is just one decision to be made when optimizing serving. There are a number of other methods that speed up inference. For example a common one is a [KV Cache](https://medium.com/@joaolages/kv-caching-explained-276520203249). These days most frameworks already include them. See the following blog post and setting in Ollama.\n",
    "\n",
    "\n",
    "Methods can be combined, for example KV Caching and quantization. To see the deep details check out this discussion from the ollama maintainers. https://github.com/ollama/ollama/issues/5091#issuecomment-2476456862\n",
    "\n",
    "For more settings see this [doc](https://github.com/ollama/ollama/blob/main/docs/faq.md)\n",
    "  * os.environ[\"OLLAMA_KV_CACHE_TYPE\"] = \"q4_0\"\n",
    "  * os.environ[\"OLLAMA_KV_CACHE_TYPE\"] = \"FP16\"\n",
    "  * os.environ[\"OLLAMA_FLASH_ATTENTION\"] = \"0\"kv cach\n",
    "\n",
    "For more on efficient serving see the [GenAI Guidebook references](https://ravinkumar.com/GenAiGuidebook/language_models/inference.html)"
   ]
  },
  {
   "cell_type": "markdown",
   "metadata": {},
   "source": [
    "## 🎯 Recap: What We Learned  \n",
    "\n",
    "### Inference is as important as training\n",
    "* There are a number of decisions that need to made that balance user experience and cost of running models\n",
    "* Quantization is one such example, especially for open models\n",
    "* There are many others such as prompt caching, speculative decoding"
   ]
  }
 ],
 "metadata": {
  "kernelspec": {
   "display_name": "Python 3 (ipykernel)",
   "language": "python",
   "name": "python3"
  },
  "language_info": {
   "codemirror_mode": {
    "name": "ipython",
    "version": 3
   },
   "file_extension": ".py",
   "mimetype": "text/x-python",
   "name": "python",
   "nbconvert_exporter": "python",
   "pygments_lexer": "ipython3",
   "version": "3.11.11"
  }
 },
 "nbformat": 4,
 "nbformat_minor": 4
}
