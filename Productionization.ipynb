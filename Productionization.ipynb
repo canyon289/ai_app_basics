{
 "cells": [
  {
   "cell_type": "markdown",
   "id": "6231346f-b857-4392-9c59-783c256eb76a",
   "metadata": {},
   "source": [
    "# Speedup\n",
    "* Enable KV Cache quantization\n",
    "* https://github.com/ollama/ollama/blob/main/docs/faq.md#how-can-i-enable-flash-attention\n",
    "\n",
    "\n",
    "Now have folks measure these metrics"
   ]
  }
 ],
 "metadata": {
  "kernelspec": {
   "display_name": "Python 3 (ipykernel)",
   "language": "python",
   "name": "python3"
  },
  "language_info": {
   "codemirror_mode": {
    "name": "ipython",
    "version": 3
   },
   "file_extension": ".py",
   "mimetype": "text/x-python",
   "name": "python",
   "nbconvert_exporter": "python",
   "pygments_lexer": "ipython3",
   "version": "3.11.11"
  }
 },
 "nbformat": 4,
 "nbformat_minor": 5
}
