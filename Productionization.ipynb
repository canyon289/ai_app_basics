{
 "cells": [
  {
   "cell_type": "markdown",
   "id": "6231346f-b857-4392-9c59-783c256eb76a",
   "metadata": {},
   "source": [
    "# Speedup\n",
    "* Enable KV Cache quantization https://github.com/ollama/ollama/blob/main/docs/faq.md#how-can-i-set-the-quantization-type-for-the-kv-cache\n",
    "* https://github.com/ollama/ollama/blob/main/docs/faq.md#how-can-i-enable-flash-attention\n",
    "\n",
    "\n",
    "\n",
    "https://github.com/ollama/ollama/blob/main/docs/faq.md#how-can-i-set-the-quantization-type-for-the-kv-cache"
   ]
  },
  {
   "cell_type": "code",
   "execution_count": 7,
   "id": "615baeca-b7b7-4be3-a85b-de2416f56c4c",
   "metadata": {},
   "outputs": [],
   "source": [
    "from ollama import chat\n",
    "from ollama import ChatResponse\n",
    "import time\n",
    "import os\n"
   ]
  },
  {
   "cell_type": "code",
   "execution_count": 5,
   "id": "1c678aa3-159b-4764-9c3f-077f9594183b",
   "metadata": {},
   "outputs": [],
   "source": [
    "article = \"\"\"\n",
    "\\n\\n**A Journey Through Time: The History and Achievements of North Melbourne Kangaroos**\\n\\nThe North Melbourne Kangaroos, affectionately known as the Magpies prior to their 1983 rebranding, are a storied team with a rich tapestry of history. Nestled in Ballarat, Victoria, these kangaroos have been the pride of the region since their inception in 1924. This article delves into their remarkable journey, from their early days as a minor league side to becoming a significant force in Australian rugby union.\\n\\n**The Founding of the Kangaroos**\\n\\nNorth Melbourne Kangaroos were born on November 6, 1924, when the North Melbourne Rugby Union Club was established. The club\\'s name change to Kangaroos occurred after their 1983 merger with Torquay United, a move that reflected their transition from being based in Melbourne to Ballarat.\\n\\n**A Legacy of Excellence**\\n\\nThe Kangaroos\\' history is marked by excellence and resilience. Over the decades, they\\'ve claimed multiple State Titles, showcasing their dominance on the field. Notable players such as David Nasmith and Adam Droms have been luminaries of the team, with Nasmith holding the distinction of being one of the youngest players to grace the field in 1958 and still active today.\\n\\n**Current Stance in the League**\\n\\nSince their move to Ballarat in 2019, the North Melbourne Kangaroos have become a prominent side in the Victorian top-tier competition. Their transition was met with both anticipation and nostalgia from their old fans, who cherished the memories of playing at Belmore Ground, the club\\'s historic home.\\n\\n**Community Connection**\\n\\nThe kangaroos are deeply rooted in the Ballarat community. Their branding includes the iconic \"Kangaroo\" logo, symbolizing their connection to the local wildlife. The team has also embraced community involvement, with players and staff engaging actively in local initiatives, fostering a strong bond between the club and its surroundings.\\n\\n**Engaging with Fans**\\n\\nIn keeping with rugby union traditions, the Kangaroos embrace close-knit relationships with their fans. Whether through match days or annual events, the team consistently demonstrates a commitment to community spirit, further cementing its identity as a local institution.\\n\\n**Looking Ahead**\\n\\nThe future of North Melbourne Kangaroos looks promising. With a focus on developing young talent and maintaining high standards, the club is poised for continued success. Fans can expect an exciting season ahead, with the kangaroos aiming to uphold their legacy while exploring new horizons in the league.\\n\\nIn conclusion, the North Melbourne Kangaroos represent more than just a rugby team; they are a symbol of pride for Ballarat and a testament to the enduring spirit of sportsmanship. As they continue to navigate the challenges and opportunities of modern rugby union, one can look forward to many thrilling matches and memorable moments in their storied history.'\n",
    "\"\"\"\n"
   ]
  },
  {
   "cell_type": "code",
   "execution_count": 25,
   "id": "f1cfb4d7-82f2-44be-9084-6a904b5707d6",
   "metadata": {},
   "outputs": [
    {
     "data": {
      "text/plain": [
       "('Australian \\n', 2.099330186843872)"
      ]
     },
     "execution_count": 25,
     "metadata": {},
     "output_type": "execute_result"
    }
   ],
   "source": [
    "model = 'gemma2:9b'\n",
    "\n",
    "def single_turn_with_time(prompt):\n",
    "    start_time = time.time()\n",
    "\n",
    "    response: ChatResponse = chat(model=model, messages=[\n",
    "      {\n",
    "        'role': 'user',\n",
    "        'content': prompt,\n",
    "      },\n",
    "    ])\n",
    "    end_time = time.time()\n",
    "    \n",
    "    total_time = end_time - start_time\n",
    "    return response.message.content, total_time\n",
    "\n",
    "prompt = f\"1Is this about an australian or american team?, print no other words: {article}?\"\n",
    "single_turn_with_time(prompt)"
   ]
  },
  {
   "cell_type": "code",
   "execution_count": 22,
   "id": "816fa9a6-afa7-4c5e-8501-6016320a95e6",
   "metadata": {},
   "outputs": [
    {
     "name": "stdout",
     "output_type": "stream",
     "text": [
      "0.36172914505004883\n",
      "0.13858413696289062\n",
      "0.13541603088378906\n",
      "0.13684797286987305\n",
      "0.13925623893737793\n"
     ]
    }
   ],
   "source": [
    "os.environ[\"OLLAMA_KV_CACHE_TYPE\"] = \"FP16\"\n",
    "os.environ[\"OLLAMA_FLASH_ATTENTION\"] = \"0\"\n",
    "\n",
    "for i in range(5):\n",
    "    print(single_turn_with_time(prompt)[1])"
   ]
  },
  {
   "cell_type": "code",
   "execution_count": 23,
   "id": "7781cde6-8a49-4d7f-bc46-86e64d540373",
   "metadata": {},
   "outputs": [
    {
     "name": "stdout",
     "output_type": "stream",
     "text": [
      "0.33396315574645996\n",
      "0.17484807968139648\n",
      "0.1344447135925293\n",
      "0.13441801071166992\n",
      "0.16489696502685547\n"
     ]
    }
   ],
   "source": [
    "os.environ[\"OLLAMA_KV_CACHE_TYPE\"] = \"q4_0\"\n",
    "\n",
    "for i in range(5):\n",
    "    print(single_turn_with_time(prompt)[1])"
   ]
  },
  {
   "cell_type": "code",
   "execution_count": 28,
   "id": "c1de249f-32e6-491f-b3db-4f0ab55a6b6b",
   "metadata": {},
   "outputs": [
    {
     "data": {
      "text/plain": [
       "ProcessResponse(models=[Model(model='gemma2:9b', name='gemma2:9b', digest='ff02c3702f322b9e075e9568332d96c0a7028002f1a5a056e0a6784320a4db0b', expires_at=datetime.datetime(2025, 2, 23, 19, 7, 6, 345039, tzinfo=TzInfo(-08:00)), size=9502799872, size_vram=9502799872, details=ModelDetails(parent_model='', format='gguf', family='gemma2', families=['gemma2'], parameter_size='9.2B', quantization_level='Q4_0'))])"
      ]
     },
     "execution_count": 28,
     "metadata": {},
     "output_type": "execute_result"
    }
   ],
   "source": [
    "import ollama\n",
    "ollama.ps()"
   ]
  }
 ],
 "metadata": {
  "kernelspec": {
   "display_name": "Python 3 (ipykernel)",
   "language": "python",
   "name": "python3"
  },
  "language_info": {
   "codemirror_mode": {
    "name": "ipython",
    "version": 3
   },
   "file_extension": ".py",
   "mimetype": "text/x-python",
   "name": "python",
   "nbconvert_exporter": "python",
   "pygments_lexer": "ipython3",
   "version": "3.11.11"
  }
 },
 "nbformat": 4,
 "nbformat_minor": 5
}
