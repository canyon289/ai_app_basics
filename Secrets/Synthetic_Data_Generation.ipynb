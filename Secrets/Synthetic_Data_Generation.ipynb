{
 "cells": [
  {
   "cell_type": "markdown",
   "id": "d0546aed-eca7-424b-9055-205b76900f6f",
   "metadata": {},
   "source": [
    "# Synthetic Data Generation\n",
    "This is a behind the scenes look"
   ]
  },
  {
   "cell_type": "markdown",
   "id": "93d7cdb9-e744-41e8-b40b-f536a00cd119",
   "metadata": {},
   "source": [
    "## Use an LLM to generate full length articles with typos in the team name\n",
    "Write to jsonl with {team nam"
   ]
  },
  {
   "cell_type": "code",
   "execution_count": 2,
   "id": "0a5bb2b3-35ed-4106-be56-11c4be7bf6a1",
   "metadata": {},
   "outputs": [],
   "source": [
    "from ollama import chat\n",
    "from ollama import ChatResponse"
   ]
  },
  {
   "cell_type": "code",
   "execution_count": 6,
   "id": "384160c3-1c62-4eba-a49f-20f476bf5b79",
   "metadata": {},
   "outputs": [
    {
     "data": {
      "text/plain": [
       "['<think>\\nOkay, I need to write an extra extra long news article about the North Melbourne Kangaroos. Hmm, that\\'s a pretty specific team. First, I should probably figure out what information is relevant here. The user mentioned it\\'s for a news context, so maybe they want something informative and engaging.\\n\\nI\\'ll start by thinking about the key points to cover: when the kangaroos were founded, their nicknames, mascots, and any notable players or managers. Oh right, they have a rich history with several standout players like David Nasmith and Adam Droms. I should include some of their achievements too—like State Titles and finals appearances.\\n\\nAlso, it\\'s important to mention the transition from playing in Melbourne to being based in Ballarat since 2019. That\\'s a significant change for the team, so explaining that would give readers context about their current status. \\n\\nI might also want to talk about the team\\'s identity—whether they\\'re known as the Kangaroos or the Magpies now? Wait, actually, I think they were called the Magpies before becoming the Kangaroos in 1983. That\\'s a bit of history that could be useful.\\n\\nIncluding some interesting facts might make the article more engaging. For example, David Nasmith was one of the youngest players to play for them and still playing today. Adam Droms is another standout player with a lot of experience. \\n\\nI should also touch on their current status in the league—how they\\'re doing now, any recent successes or challenges they\\'ve faced. Maybe mention their rivalry with the Geelong Kangaroos in Melbourne? That could add some context about their reputation.\\n\\nOh, and their home ground—the Belmore Ground. It\\'s a historic venue, so highlighting that would be good. Also, maybe include something about the support they get from the community, as that can show the team\\'s connection to the area.\\n\\nI need to make sure the article flows well, starting with an introduction of who they are and when they were founded, then moving into their history, notable players, current status, and ending with some positive remarks about their future. \\n\\nWait, am I missing anything? Maybe a bit about their logo or how they\\'re perceived in the community. That could add depth to the article.\\n\\nAlso, considering it\\'s an extra long article, perhaps including some lesser-known facts or interesting anecdotes might help keep readers engaged. For instance, any unique traditions or ways the team interacts with the public.\\n\\nI should also think about the tone—keeping it professional yet engaging, suitable for a news piece that\\'s informative but also reads like a compelling story.\\n\\nPutting this all together: Start with an introduction about their history and significance, then delve into their player history, current status, community impact, and wrap up with their future prospects. Make sure to include some interesting stats or facts along the way to keep it lively.\\n\\nI think that covers most aspects. Now I just need to structure this information coherently and write it in a way that\\'s both informative and engaging for readers interested in sports history.\\n</think>\\n\\n**A Journey Through Time: The History and Achievements of North Melbourne Kangaroos**\\n\\nThe North Melbourne Kangaroos, affectionately known as the Magpies prior to their 1983 rebranding, are a storied team with a rich tapestry of history. Nestled in Ballarat, Victoria, these kangaroos have been the pride of the region since their inception in 1924. This article delves into their remarkable journey, from their early days as a minor league side to becoming a significant force in Australian rugby union.\\n\\n**The Founding of the Kangaroos**\\n\\nNorth Melbourne Kangaroos were born on November 6, 1924, when the North Melbourne Rugby Union Club was established. The club\\'s name change to Kangaroos occurred after their 1983 merger with Torquay United, a move that reflected their transition from being based in Melbourne to Ballarat.\\n\\n**A Legacy of Excellence**\\n\\nThe Kangaroos\\' history is marked by excellence and resilience. Over the decades, they\\'ve claimed multiple State Titles, showcasing their dominance on the field. Notable players such as David Nasmith and Adam Droms have been luminaries of the team, with Nasmith holding the distinction of being one of the youngest players to grace the field in 1958 and still active today.\\n\\n**Current Stance in the League**\\n\\nSince their move to Ballarat in 2019, the North Melbourne Kangaroos have become a prominent side in the Victorian top-tier competition. Their transition was met with both anticipation and nostalgia from their old fans, who cherished the memories of playing at Belmore Ground, the club\\'s historic home.\\n\\n**Community Connection**\\n\\nThe kangaroos are deeply rooted in the Ballarat community. Their branding includes the iconic \"Kangaroo\" logo, symbolizing their connection to the local wildlife. The team has also embraced community involvement, with players and staff engaging actively in local initiatives, fostering a strong bond between the club and its surroundings.\\n\\n**Engaging with Fans**\\n\\nIn keeping with rugby union traditions, the Kangaroos embrace close-knit relationships with their fans. Whether through match days or annual events, the team consistently demonstrates a commitment to community spirit, further cementing its identity as a local institution.\\n\\n**Looking Ahead**\\n\\nThe future of North Melbourne Kangaroos looks promising. With a focus on developing young talent and maintaining high standards, the club is poised for continued success. Fans can expect an exciting season ahead, with the kangaroos aiming to uphold their legacy while exploring new horizons in the league.\\n\\nIn conclusion, the North Melbourne Kangaroos represent more than just a rugby team; they are a symbol of pride for Ballarat and a testament to the enduring spirit of sportsmanship. As they continue to navigate the challenges and opportunities of modern rugby union, one can look forward to many thrilling matches and memorable moments in their storied history.']"
      ]
     },
     "execution_count": 6,
     "metadata": {},
     "output_type": "execute_result"
    }
   ],
   "source": [
    "teams = [\"North Melbourne Kangaroos\", \"St Kilda Saints\", \"Tennessee Titans\", \"Brisbane Lions\"]\n",
    "\n",
    "\n",
    "model = 'deepseek-r1:7b'\n",
    "\n",
    "def single_turn(prompt):\n",
    "    response: ChatResponse = chat(model=model, messages=[\n",
    "      {\n",
    "        'role': 'user',\n",
    "        'content': prompt,\n",
    "      },\n",
    "    ])\n",
    "    return response.message.content\n",
    "\n",
    "output = single_turn(f\"Write an extra extra long news article about {teams[0]}\")\n",
    "output.split(\"</think?\")"
   ]
  },
  {
   "cell_type": "code",
   "execution_count": 7,
   "id": "3a938b01-4566-488d-be42-9f0506d849c0",
   "metadata": {},
   "outputs": [
    {
     "data": {
      "text/plain": [
       "'\\n\\n**A Journey Through Time: The History and Achievements of North Melbourne Kangaroos**\\n\\nThe North Melbourne Kangaroos, affectionately known as the Magpies prior to their 1983 rebranding, are a storied team with a rich tapestry of history. Nestled in Ballarat, Victoria, these kangaroos have been the pride of the region since their inception in 1924. This article delves into their remarkable journey, from their early days as a minor league side to becoming a significant force in Australian rugby union.\\n\\n**The Founding of the Kangaroos**\\n\\nNorth Melbourne Kangaroos were born on November 6, 1924, when the North Melbourne Rugby Union Club was established. The club\\'s name change to Kangaroos occurred after their 1983 merger with Torquay United, a move that reflected their transition from being based in Melbourne to Ballarat.\\n\\n**A Legacy of Excellence**\\n\\nThe Kangaroos\\' history is marked by excellence and resilience. Over the decades, they\\'ve claimed multiple State Titles, showcasing their dominance on the field. Notable players such as David Nasmith and Adam Droms have been luminaries of the team, with Nasmith holding the distinction of being one of the youngest players to grace the field in 1958 and still active today.\\n\\n**Current Stance in the League**\\n\\nSince their move to Ballarat in 2019, the North Melbourne Kangaroos have become a prominent side in the Victorian top-tier competition. Their transition was met with both anticipation and nostalgia from their old fans, who cherished the memories of playing at Belmore Ground, the club\\'s historic home.\\n\\n**Community Connection**\\n\\nThe kangaroos are deeply rooted in the Ballarat community. Their branding includes the iconic \"Kangaroo\" logo, symbolizing their connection to the local wildlife. The team has also embraced community involvement, with players and staff engaging actively in local initiatives, fostering a strong bond between the club and its surroundings.\\n\\n**Engaging with Fans**\\n\\nIn keeping with rugby union traditions, the Kangaroos embrace close-knit relationships with their fans. Whether through match days or annual events, the team consistently demonstrates a commitment to community spirit, further cementing its identity as a local institution.\\n\\n**Looking Ahead**\\n\\nThe future of North Melbourne Kangaroos looks promising. With a focus on developing young talent and maintaining high standards, the club is poised for continued success. Fans can expect an exciting season ahead, with the kangaroos aiming to uphold their legacy while exploring new horizons in the league.\\n\\nIn conclusion, the North Melbourne Kangaroos represent more than just a rugby team; they are a symbol of pride for Ballarat and a testament to the enduring spirit of sportsmanship. As they continue to navigate the challenges and opportunities of modern rugby union, one can look forward to many thrilling matches and memorable moments in their storied history.'"
      ]
     },
     "execution_count": 7,
     "metadata": {},
     "output_type": "execute_result"
    }
   ],
   "source": [
    "output.split(\"</think>\")[1]"
   ]
  }
 ],
 "metadata": {
  "kernelspec": {
   "display_name": "Python 3 (ipykernel)",
   "language": "python",
   "name": "python3"
  },
  "language_info": {
   "codemirror_mode": {
    "name": "ipython",
    "version": 3
   },
   "file_extension": ".py",
   "mimetype": "text/x-python",
   "name": "python",
   "nbconvert_exporter": "python",
   "pygments_lexer": "ipython3",
   "version": "3.11.11"
  }
 },
 "nbformat": 4,
 "nbformat_minor": 5
}
